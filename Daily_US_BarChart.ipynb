{
 "cells": [
  {
   "cell_type": "code",
   "execution_count": 1,
   "metadata": {},
   "outputs": [],
   "source": [
    "# Setting up the environment.\n",
    "import numpy as np\n",
    "import pandas as pd\n",
    "from scipy import stats"
   ]
  },
  {
   "cell_type": "code",
   "execution_count": 2,
   "metadata": {},
   "outputs": [],
   "source": [
    "# Load the data from JHU\n",
    "df = pd.read_csv('https://raw.githubusercontent.com/CSSEGISandData/COVID-19/master/csse_covid_19_data/csse_covid_19_time_series/time_series_covid19_confirmed_US.csv')\n",
    "df_d = pd.read_csv('https://raw.githubusercontent.com/CSSEGISandData/COVID-19/master/csse_covid_19_data/csse_covid_19_time_series/time_series_covid19_deaths_US.csv')"
   ]
  },
  {
   "cell_type": "code",
   "execution_count": 3,
   "metadata": {},
   "outputs": [
    {
     "output_type": "execute_result",
     "data": {
      "text/plain": "           UID iso2 iso3  code3  FIPS          Admin2 Province_State  \\\n3258  84070018   US  USA    840   NaN  Southwest Utah           Utah   \n3259  84070019   US  USA    840   NaN       TriCounty           Utah   \n3260  84070020   US  USA    840   NaN    Weber-Morgan           Utah   \n\n     Country_Region        Lat       Long_  ... 5/6/20  5/7/20  5/8/20  \\\n3258             US  37.854472 -111.441876  ...    128     132     138   \n3259             US  40.124915 -109.517442  ...     14      14      14   \n3260             US  41.271160 -111.914512  ...    173     173     184   \n\n      5/9/20  5/10/20  5/11/20  5/12/20  5/13/20  5/14/20  5/15/20  \n3258     155      164      170      167      180      187      200  \n3259      16       16       16       16       16       16       16  \n3260     188      194      197      207      211      214      216  \n\n[3 rows x 126 columns]",
      "text/html": "<div>\n<style scoped>\n    .dataframe tbody tr th:only-of-type {\n        vertical-align: middle;\n    }\n\n    .dataframe tbody tr th {\n        vertical-align: top;\n    }\n\n    .dataframe thead th {\n        text-align: right;\n    }\n</style>\n<table border=\"1\" class=\"dataframe\">\n  <thead>\n    <tr style=\"text-align: right;\">\n      <th></th>\n      <th>UID</th>\n      <th>iso2</th>\n      <th>iso3</th>\n      <th>code3</th>\n      <th>FIPS</th>\n      <th>Admin2</th>\n      <th>Province_State</th>\n      <th>Country_Region</th>\n      <th>Lat</th>\n      <th>Long_</th>\n      <th>...</th>\n      <th>5/6/20</th>\n      <th>5/7/20</th>\n      <th>5/8/20</th>\n      <th>5/9/20</th>\n      <th>5/10/20</th>\n      <th>5/11/20</th>\n      <th>5/12/20</th>\n      <th>5/13/20</th>\n      <th>5/14/20</th>\n      <th>5/15/20</th>\n    </tr>\n  </thead>\n  <tbody>\n    <tr>\n      <th>3258</th>\n      <td>84070018</td>\n      <td>US</td>\n      <td>USA</td>\n      <td>840</td>\n      <td>NaN</td>\n      <td>Southwest Utah</td>\n      <td>Utah</td>\n      <td>US</td>\n      <td>37.854472</td>\n      <td>-111.441876</td>\n      <td>...</td>\n      <td>128</td>\n      <td>132</td>\n      <td>138</td>\n      <td>155</td>\n      <td>164</td>\n      <td>170</td>\n      <td>167</td>\n      <td>180</td>\n      <td>187</td>\n      <td>200</td>\n    </tr>\n    <tr>\n      <th>3259</th>\n      <td>84070019</td>\n      <td>US</td>\n      <td>USA</td>\n      <td>840</td>\n      <td>NaN</td>\n      <td>TriCounty</td>\n      <td>Utah</td>\n      <td>US</td>\n      <td>40.124915</td>\n      <td>-109.517442</td>\n      <td>...</td>\n      <td>14</td>\n      <td>14</td>\n      <td>14</td>\n      <td>16</td>\n      <td>16</td>\n      <td>16</td>\n      <td>16</td>\n      <td>16</td>\n      <td>16</td>\n      <td>16</td>\n    </tr>\n    <tr>\n      <th>3260</th>\n      <td>84070020</td>\n      <td>US</td>\n      <td>USA</td>\n      <td>840</td>\n      <td>NaN</td>\n      <td>Weber-Morgan</td>\n      <td>Utah</td>\n      <td>US</td>\n      <td>41.271160</td>\n      <td>-111.914512</td>\n      <td>...</td>\n      <td>173</td>\n      <td>173</td>\n      <td>184</td>\n      <td>188</td>\n      <td>194</td>\n      <td>197</td>\n      <td>207</td>\n      <td>211</td>\n      <td>214</td>\n      <td>216</td>\n    </tr>\n  </tbody>\n</table>\n<p>3 rows × 126 columns</p>\n</div>"
     },
     "metadata": {},
     "execution_count": 3
    }
   ],
   "source": [
    "df.tail(3)"
   ]
  },
  {
   "cell_type": "code",
   "execution_count": 4,
   "metadata": {},
   "outputs": [
    {
     "output_type": "execute_result",
     "data": {
      "text/plain": "           UID iso2 iso3  code3  FIPS          Admin2 Province_State  \\\n3258  84070018   US  USA    840   NaN  Southwest Utah           Utah   \n3259  84070019   US  USA    840   NaN       TriCounty           Utah   \n3260  84070020   US  USA    840   NaN    Weber-Morgan           Utah   \n\n     Country_Region        Lat       Long_  ... 5/6/20  5/7/20  5/8/20  \\\n3258             US  37.854472 -111.441876  ...      3       3       3   \n3259             US  40.124915 -109.517442  ...      0       0       0   \n3260             US  41.271160 -111.914512  ...      2       2       2   \n\n      5/9/20  5/10/20  5/11/20  5/12/20  5/13/20  5/14/20  5/15/20  \n3258       3        3        3        3        3        3        3  \n3259       0        0        0        0        0        0        0  \n3260       2        2        2        3        3        3        3  \n\n[3 rows x 127 columns]",
      "text/html": "<div>\n<style scoped>\n    .dataframe tbody tr th:only-of-type {\n        vertical-align: middle;\n    }\n\n    .dataframe tbody tr th {\n        vertical-align: top;\n    }\n\n    .dataframe thead th {\n        text-align: right;\n    }\n</style>\n<table border=\"1\" class=\"dataframe\">\n  <thead>\n    <tr style=\"text-align: right;\">\n      <th></th>\n      <th>UID</th>\n      <th>iso2</th>\n      <th>iso3</th>\n      <th>code3</th>\n      <th>FIPS</th>\n      <th>Admin2</th>\n      <th>Province_State</th>\n      <th>Country_Region</th>\n      <th>Lat</th>\n      <th>Long_</th>\n      <th>...</th>\n      <th>5/6/20</th>\n      <th>5/7/20</th>\n      <th>5/8/20</th>\n      <th>5/9/20</th>\n      <th>5/10/20</th>\n      <th>5/11/20</th>\n      <th>5/12/20</th>\n      <th>5/13/20</th>\n      <th>5/14/20</th>\n      <th>5/15/20</th>\n    </tr>\n  </thead>\n  <tbody>\n    <tr>\n      <th>3258</th>\n      <td>84070018</td>\n      <td>US</td>\n      <td>USA</td>\n      <td>840</td>\n      <td>NaN</td>\n      <td>Southwest Utah</td>\n      <td>Utah</td>\n      <td>US</td>\n      <td>37.854472</td>\n      <td>-111.441876</td>\n      <td>...</td>\n      <td>3</td>\n      <td>3</td>\n      <td>3</td>\n      <td>3</td>\n      <td>3</td>\n      <td>3</td>\n      <td>3</td>\n      <td>3</td>\n      <td>3</td>\n      <td>3</td>\n    </tr>\n    <tr>\n      <th>3259</th>\n      <td>84070019</td>\n      <td>US</td>\n      <td>USA</td>\n      <td>840</td>\n      <td>NaN</td>\n      <td>TriCounty</td>\n      <td>Utah</td>\n      <td>US</td>\n      <td>40.124915</td>\n      <td>-109.517442</td>\n      <td>...</td>\n      <td>0</td>\n      <td>0</td>\n      <td>0</td>\n      <td>0</td>\n      <td>0</td>\n      <td>0</td>\n      <td>0</td>\n      <td>0</td>\n      <td>0</td>\n      <td>0</td>\n    </tr>\n    <tr>\n      <th>3260</th>\n      <td>84070020</td>\n      <td>US</td>\n      <td>USA</td>\n      <td>840</td>\n      <td>NaN</td>\n      <td>Weber-Morgan</td>\n      <td>Utah</td>\n      <td>US</td>\n      <td>41.271160</td>\n      <td>-111.914512</td>\n      <td>...</td>\n      <td>2</td>\n      <td>2</td>\n      <td>2</td>\n      <td>2</td>\n      <td>2</td>\n      <td>2</td>\n      <td>3</td>\n      <td>3</td>\n      <td>3</td>\n      <td>3</td>\n    </tr>\n  </tbody>\n</table>\n<p>3 rows × 127 columns</p>\n</div>"
     },
     "metadata": {},
     "execution_count": 4
    }
   ],
   "source": [
    "df_d.tail(3)"
   ]
  },
  {
   "cell_type": "code",
   "execution_count": 5,
   "metadata": {},
   "outputs": [],
   "source": [
    "df = df.drop(['UID', 'iso2', 'iso3', 'code3', 'FIPS', 'Admin2' ,'Province_State', 'Country_Region', 'Lat', 'Long_', 'Combined_Key'], axis=1)\n",
    "df_d = df_d.drop(['Population', 'UID', 'iso2', 'iso3', 'code3', 'FIPS', 'Admin2' ,'Province_State', 'Country_Region', 'Lat', 'Long_', 'Combined_Key'], axis=1)"
   ]
  },
  {
   "cell_type": "code",
   "execution_count": 6,
   "metadata": {},
   "outputs": [
    {
     "output_type": "execute_result",
     "data": {
      "text/plain": "   1/22/20  1/23/20  1/24/20  1/25/20  1/26/20  1/27/20  1/28/20  1/29/20  \\\n0        0        0        0        0        0        0        0        0   \n1        0        0        0        0        0        0        0        0   \n2        0        0        0        0        0        0        0        0   \n\n   1/30/20  1/31/20  ...  5/6/20  5/7/20  5/8/20  5/9/20  5/10/20  5/11/20  \\\n0        0        0  ...       0       0       0       0        0        0   \n1        0        0  ...     149     149     151     151      151      151   \n2        0        0  ...      15      15      15      16       16       19   \n\n   5/12/20  5/13/20  5/14/20  5/15/20  \n0        0        0        0        0  \n1      152      152      152      154  \n2       19       19       19       19  \n\n[3 rows x 115 columns]",
      "text/html": "<div>\n<style scoped>\n    .dataframe tbody tr th:only-of-type {\n        vertical-align: middle;\n    }\n\n    .dataframe tbody tr th {\n        vertical-align: top;\n    }\n\n    .dataframe thead th {\n        text-align: right;\n    }\n</style>\n<table border=\"1\" class=\"dataframe\">\n  <thead>\n    <tr style=\"text-align: right;\">\n      <th></th>\n      <th>1/22/20</th>\n      <th>1/23/20</th>\n      <th>1/24/20</th>\n      <th>1/25/20</th>\n      <th>1/26/20</th>\n      <th>1/27/20</th>\n      <th>1/28/20</th>\n      <th>1/29/20</th>\n      <th>1/30/20</th>\n      <th>1/31/20</th>\n      <th>...</th>\n      <th>5/6/20</th>\n      <th>5/7/20</th>\n      <th>5/8/20</th>\n      <th>5/9/20</th>\n      <th>5/10/20</th>\n      <th>5/11/20</th>\n      <th>5/12/20</th>\n      <th>5/13/20</th>\n      <th>5/14/20</th>\n      <th>5/15/20</th>\n    </tr>\n  </thead>\n  <tbody>\n    <tr>\n      <th>0</th>\n      <td>0</td>\n      <td>0</td>\n      <td>0</td>\n      <td>0</td>\n      <td>0</td>\n      <td>0</td>\n      <td>0</td>\n      <td>0</td>\n      <td>0</td>\n      <td>0</td>\n      <td>...</td>\n      <td>0</td>\n      <td>0</td>\n      <td>0</td>\n      <td>0</td>\n      <td>0</td>\n      <td>0</td>\n      <td>0</td>\n      <td>0</td>\n      <td>0</td>\n      <td>0</td>\n    </tr>\n    <tr>\n      <th>1</th>\n      <td>0</td>\n      <td>0</td>\n      <td>0</td>\n      <td>0</td>\n      <td>0</td>\n      <td>0</td>\n      <td>0</td>\n      <td>0</td>\n      <td>0</td>\n      <td>0</td>\n      <td>...</td>\n      <td>149</td>\n      <td>149</td>\n      <td>151</td>\n      <td>151</td>\n      <td>151</td>\n      <td>151</td>\n      <td>152</td>\n      <td>152</td>\n      <td>152</td>\n      <td>154</td>\n    </tr>\n    <tr>\n      <th>2</th>\n      <td>0</td>\n      <td>0</td>\n      <td>0</td>\n      <td>0</td>\n      <td>0</td>\n      <td>0</td>\n      <td>0</td>\n      <td>0</td>\n      <td>0</td>\n      <td>0</td>\n      <td>...</td>\n      <td>15</td>\n      <td>15</td>\n      <td>15</td>\n      <td>16</td>\n      <td>16</td>\n      <td>19</td>\n      <td>19</td>\n      <td>19</td>\n      <td>19</td>\n      <td>19</td>\n    </tr>\n  </tbody>\n</table>\n<p>3 rows × 115 columns</p>\n</div>"
     },
     "metadata": {},
     "execution_count": 6
    }
   ],
   "source": [
    "df.head(3)"
   ]
  },
  {
   "cell_type": "code",
   "execution_count": 7,
   "metadata": {},
   "outputs": [
    {
     "output_type": "execute_result",
     "data": {
      "text/plain": "   1/22/20  1/23/20  1/24/20  1/25/20  1/26/20  1/27/20  1/28/20  1/29/20  \\\n0        0        0        0        0        0        0        0        0   \n1        0        0        0        0        0        0        0        0   \n2        0        0        0        0        0        0        0        0   \n\n   1/30/20  1/31/20  ...  5/6/20  5/7/20  5/8/20  5/9/20  5/10/20  5/11/20  \\\n0        0        0  ...       0       0       0       0        0        0   \n1        0        0  ...       4       0       2       0        0        0   \n2        0        0  ...       1       0       0       1        0        3   \n\n   5/12/20  5/13/20  5/14/20  5/15/20  \n0        0        0        0        0  \n1        1        0        0        2  \n2        0        0        0        0  \n\n[3 rows x 115 columns]",
      "text/html": "<div>\n<style scoped>\n    .dataframe tbody tr th:only-of-type {\n        vertical-align: middle;\n    }\n\n    .dataframe tbody tr th {\n        vertical-align: top;\n    }\n\n    .dataframe thead th {\n        text-align: right;\n    }\n</style>\n<table border=\"1\" class=\"dataframe\">\n  <thead>\n    <tr style=\"text-align: right;\">\n      <th></th>\n      <th>1/22/20</th>\n      <th>1/23/20</th>\n      <th>1/24/20</th>\n      <th>1/25/20</th>\n      <th>1/26/20</th>\n      <th>1/27/20</th>\n      <th>1/28/20</th>\n      <th>1/29/20</th>\n      <th>1/30/20</th>\n      <th>1/31/20</th>\n      <th>...</th>\n      <th>5/6/20</th>\n      <th>5/7/20</th>\n      <th>5/8/20</th>\n      <th>5/9/20</th>\n      <th>5/10/20</th>\n      <th>5/11/20</th>\n      <th>5/12/20</th>\n      <th>5/13/20</th>\n      <th>5/14/20</th>\n      <th>5/15/20</th>\n    </tr>\n  </thead>\n  <tbody>\n    <tr>\n      <th>0</th>\n      <td>0</td>\n      <td>0</td>\n      <td>0</td>\n      <td>0</td>\n      <td>0</td>\n      <td>0</td>\n      <td>0</td>\n      <td>0</td>\n      <td>0</td>\n      <td>0</td>\n      <td>...</td>\n      <td>0</td>\n      <td>0</td>\n      <td>0</td>\n      <td>0</td>\n      <td>0</td>\n      <td>0</td>\n      <td>0</td>\n      <td>0</td>\n      <td>0</td>\n      <td>0</td>\n    </tr>\n    <tr>\n      <th>1</th>\n      <td>0</td>\n      <td>0</td>\n      <td>0</td>\n      <td>0</td>\n      <td>0</td>\n      <td>0</td>\n      <td>0</td>\n      <td>0</td>\n      <td>0</td>\n      <td>0</td>\n      <td>...</td>\n      <td>4</td>\n      <td>0</td>\n      <td>2</td>\n      <td>0</td>\n      <td>0</td>\n      <td>0</td>\n      <td>1</td>\n      <td>0</td>\n      <td>0</td>\n      <td>2</td>\n    </tr>\n    <tr>\n      <th>2</th>\n      <td>0</td>\n      <td>0</td>\n      <td>0</td>\n      <td>0</td>\n      <td>0</td>\n      <td>0</td>\n      <td>0</td>\n      <td>0</td>\n      <td>0</td>\n      <td>0</td>\n      <td>...</td>\n      <td>1</td>\n      <td>0</td>\n      <td>0</td>\n      <td>1</td>\n      <td>0</td>\n      <td>3</td>\n      <td>0</td>\n      <td>0</td>\n      <td>0</td>\n      <td>0</td>\n    </tr>\n  </tbody>\n</table>\n<p>3 rows × 115 columns</p>\n</div>"
     },
     "metadata": {},
     "execution_count": 7
    }
   ],
   "source": [
    "# this cell by Leaf Petersen\n",
    "# Copy the data frame\n",
    "dfdaily=df.copy()\n",
    "\n",
    "# We are on the first iteration\n",
    "first=True\n",
    "# For every column\n",
    "for column in df:\n",
    "   # If this is the first iteration\n",
    "   if first:\n",
    "     # Save the first column\n",
    "     prev = column\n",
    "     # Copy over the first column unchanged\n",
    "     dfdaily[column]=df[column]\n",
    "     # All subsequent iterations are not the first\n",
    "     first=False\n",
    "     # Skip the rest of the loop\n",
    "     continue\n",
    "   # We are not the first iteration, so keep going\n",
    "   # Set the new column contents to the difference of the\n",
    "   # previous column and the current column\n",
    "   dfdaily[column] = df[column]-df[prev]\n",
    "   # The current column is the previous column for the next iteration\n",
    "   prev = column\n",
    "dfdaily.head(3)"
   ]
  },
  {
   "cell_type": "code",
   "execution_count": 8,
   "metadata": {},
   "outputs": [
    {
     "output_type": "execute_result",
     "data": {
      "text/plain": "   1/22/20  1/23/20  1/24/20  1/25/20  1/26/20  1/27/20  1/28/20  1/29/20  \\\n0        0        0        0        0        0        0        0        0   \n1        0        0        0        0        0        0        0        0   \n2        0        0        0        0        0        0        0        0   \n\n   1/30/20  1/31/20  ...  5/6/20  5/7/20  5/8/20  5/9/20  5/10/20  5/11/20  \\\n0        0        0  ...       0       0       0       0        0        0   \n1        0        0  ...       0       0       0       0        0        0   \n2        0        0  ...       0       0       0       0        0        0   \n\n   5/12/20  5/13/20  5/14/20  5/15/20  \n0        0        0        0        0  \n1        0        0        0        0  \n2        0        0        0        0  \n\n[3 rows x 115 columns]",
      "text/html": "<div>\n<style scoped>\n    .dataframe tbody tr th:only-of-type {\n        vertical-align: middle;\n    }\n\n    .dataframe tbody tr th {\n        vertical-align: top;\n    }\n\n    .dataframe thead th {\n        text-align: right;\n    }\n</style>\n<table border=\"1\" class=\"dataframe\">\n  <thead>\n    <tr style=\"text-align: right;\">\n      <th></th>\n      <th>1/22/20</th>\n      <th>1/23/20</th>\n      <th>1/24/20</th>\n      <th>1/25/20</th>\n      <th>1/26/20</th>\n      <th>1/27/20</th>\n      <th>1/28/20</th>\n      <th>1/29/20</th>\n      <th>1/30/20</th>\n      <th>1/31/20</th>\n      <th>...</th>\n      <th>5/6/20</th>\n      <th>5/7/20</th>\n      <th>5/8/20</th>\n      <th>5/9/20</th>\n      <th>5/10/20</th>\n      <th>5/11/20</th>\n      <th>5/12/20</th>\n      <th>5/13/20</th>\n      <th>5/14/20</th>\n      <th>5/15/20</th>\n    </tr>\n  </thead>\n  <tbody>\n    <tr>\n      <th>0</th>\n      <td>0</td>\n      <td>0</td>\n      <td>0</td>\n      <td>0</td>\n      <td>0</td>\n      <td>0</td>\n      <td>0</td>\n      <td>0</td>\n      <td>0</td>\n      <td>0</td>\n      <td>...</td>\n      <td>0</td>\n      <td>0</td>\n      <td>0</td>\n      <td>0</td>\n      <td>0</td>\n      <td>0</td>\n      <td>0</td>\n      <td>0</td>\n      <td>0</td>\n      <td>0</td>\n    </tr>\n    <tr>\n      <th>1</th>\n      <td>0</td>\n      <td>0</td>\n      <td>0</td>\n      <td>0</td>\n      <td>0</td>\n      <td>0</td>\n      <td>0</td>\n      <td>0</td>\n      <td>0</td>\n      <td>0</td>\n      <td>...</td>\n      <td>0</td>\n      <td>0</td>\n      <td>0</td>\n      <td>0</td>\n      <td>0</td>\n      <td>0</td>\n      <td>0</td>\n      <td>0</td>\n      <td>0</td>\n      <td>0</td>\n    </tr>\n    <tr>\n      <th>2</th>\n      <td>0</td>\n      <td>0</td>\n      <td>0</td>\n      <td>0</td>\n      <td>0</td>\n      <td>0</td>\n      <td>0</td>\n      <td>0</td>\n      <td>0</td>\n      <td>0</td>\n      <td>...</td>\n      <td>0</td>\n      <td>0</td>\n      <td>0</td>\n      <td>0</td>\n      <td>0</td>\n      <td>0</td>\n      <td>0</td>\n      <td>0</td>\n      <td>0</td>\n      <td>0</td>\n    </tr>\n  </tbody>\n</table>\n<p>3 rows × 115 columns</p>\n</div>"
     },
     "metadata": {},
     "execution_count": 8
    }
   ],
   "source": [
    "# this cell by Leaf Petersen\n",
    "# Copy the data frame\n",
    "df_d_daily=df_d.copy()\n",
    "\n",
    "# We are on the first iteration\n",
    "first=True\n",
    "# For every column\n",
    "for column in df_d:\n",
    "   # If this is the first iteration\n",
    "   if first:\n",
    "     # Save the first column\n",
    "     prev = column\n",
    "     # Copy over the first column unchanged\n",
    "     df_d_daily[column]=df_d[column]\n",
    "     # All subsequent iterations are not the first\n",
    "     first=False\n",
    "     # Skip the rest of the loop\n",
    "     continue\n",
    "   # We are not the first iteration, so keep going\n",
    "   # Set the new column contents to the difference of the\n",
    "   # previous column and the current column\n",
    "   df_d_daily[column] = df_d[column]-df_d[prev]\n",
    "   # The current column is the previous column for the next iteration\n",
    "   prev = column\n",
    "df_d_daily.head(3)"
   ]
  },
  {
   "cell_type": "code",
   "execution_count": 9,
   "metadata": {},
   "outputs": [
    {
     "output_type": "execute_result",
     "data": {
      "text/plain": "        Date  Confirmed\n112  5/13/20      20832\n113  5/14/20      27368\n114  5/15/20      25050",
      "text/html": "<div>\n<style scoped>\n    .dataframe tbody tr th:only-of-type {\n        vertical-align: middle;\n    }\n\n    .dataframe tbody tr th {\n        vertical-align: top;\n    }\n\n    .dataframe thead th {\n        text-align: right;\n    }\n</style>\n<table border=\"1\" class=\"dataframe\">\n  <thead>\n    <tr style=\"text-align: right;\">\n      <th></th>\n      <th>Date</th>\n      <th>Confirmed</th>\n    </tr>\n  </thead>\n  <tbody>\n    <tr>\n      <th>112</th>\n      <td>5/13/20</td>\n      <td>20832</td>\n    </tr>\n    <tr>\n      <th>113</th>\n      <td>5/14/20</td>\n      <td>27368</td>\n    </tr>\n    <tr>\n      <th>114</th>\n      <td>5/15/20</td>\n      <td>25050</td>\n    </tr>\n  </tbody>\n</table>\n</div>"
     },
     "metadata": {},
     "execution_count": 9
    }
   ],
   "source": [
    "# We want the sum of all States and Counties to get the total value of Confirmed in the US\n",
    "dfdaily = dfdaily.sum().to_frame()\n",
    "dfdaily = dfdaily.reset_index()\n",
    "# We want two colums named Date and Confirmed\n",
    "dfdaily = dfdaily.rename(columns={'index': 'Date', 0: 'Confirmed'})\n",
    "dfdaily.tail(3)"
   ]
  },
  {
   "cell_type": "code",
   "execution_count": 10,
   "metadata": {},
   "outputs": [
    {
     "output_type": "execute_result",
     "data": {
      "text/plain": "      Date  Deaths\n0  1/22/20       0\n1  1/23/20       0\n2  1/24/20       0",
      "text/html": "<div>\n<style scoped>\n    .dataframe tbody tr th:only-of-type {\n        vertical-align: middle;\n    }\n\n    .dataframe tbody tr th {\n        vertical-align: top;\n    }\n\n    .dataframe thead th {\n        text-align: right;\n    }\n</style>\n<table border=\"1\" class=\"dataframe\">\n  <thead>\n    <tr style=\"text-align: right;\">\n      <th></th>\n      <th>Date</th>\n      <th>Deaths</th>\n    </tr>\n  </thead>\n  <tbody>\n    <tr>\n      <th>0</th>\n      <td>1/22/20</td>\n      <td>0</td>\n    </tr>\n    <tr>\n      <th>1</th>\n      <td>1/23/20</td>\n      <td>0</td>\n    </tr>\n    <tr>\n      <th>2</th>\n      <td>1/24/20</td>\n      <td>0</td>\n    </tr>\n  </tbody>\n</table>\n</div>"
     },
     "metadata": {},
     "execution_count": 10
    }
   ],
   "source": [
    "# We want the sum of all States and Counties to get the total value of Deaths in the US\n",
    "df_d_daily = df_d_daily.sum().to_frame()\n",
    "df_d_daily = df_d_daily.reset_index()\n",
    "# We want two colums named Date and Deaths\n",
    "df_d_daily = df_d_daily.rename(columns={'index': 'Date', 0: 'Deaths'})\n",
    "df_d_daily.head(3)"
   ]
  },
  {
   "cell_type": "code",
   "execution_count": 11,
   "metadata": {},
   "outputs": [
    {
     "output_type": "execute_result",
     "data": {
      "text/plain": "   Date  Confirmed\n0     0        1.0\n1     1        0.0\n2     2        0.0",
      "text/html": "<div>\n<style scoped>\n    .dataframe tbody tr th:only-of-type {\n        vertical-align: middle;\n    }\n\n    .dataframe tbody tr th {\n        vertical-align: top;\n    }\n\n    .dataframe thead th {\n        text-align: right;\n    }\n</style>\n<table border=\"1\" class=\"dataframe\">\n  <thead>\n    <tr style=\"text-align: right;\">\n      <th></th>\n      <th>Date</th>\n      <th>Confirmed</th>\n    </tr>\n  </thead>\n  <tbody>\n    <tr>\n      <th>0</th>\n      <td>0</td>\n      <td>1.0</td>\n    </tr>\n    <tr>\n      <th>1</th>\n      <td>1</td>\n      <td>0.0</td>\n    </tr>\n    <tr>\n      <th>2</th>\n      <td>2</td>\n      <td>0.0</td>\n    </tr>\n  </tbody>\n</table>\n</div>"
     },
     "metadata": {},
     "execution_count": 11
    }
   ],
   "source": [
    "# Calculating rolling average for window of 7\n",
    "dfdaily_avg = dfdaily.rolling(7, win_type='triang').mean().round()\n",
    "# Replacing NaNs \n",
    "dfdaily_avg.iloc[0] = [1]\n",
    "dfdaily_avg = dfdaily_avg.fillna(0)\n",
    "dfdaily_avg = dfdaily_avg.reset_index()\n",
    "dfdaily_avg = dfdaily_avg.rename(columns={'index': 'Date'})\n",
    "dfdaily_avg.head(3)"
   ]
  },
  {
   "cell_type": "code",
   "execution_count": 12,
   "metadata": {},
   "outputs": [
    {
     "output_type": "execute_result",
     "data": {
      "text/plain": "   Date  Confirmed\n0     0        1.0\n1     1        0.0\n2     2        0.0",
      "text/html": "<div>\n<style scoped>\n    .dataframe tbody tr th:only-of-type {\n        vertical-align: middle;\n    }\n\n    .dataframe tbody tr th {\n        vertical-align: top;\n    }\n\n    .dataframe thead th {\n        text-align: right;\n    }\n</style>\n<table border=\"1\" class=\"dataframe\">\n  <thead>\n    <tr style=\"text-align: right;\">\n      <th></th>\n      <th>Date</th>\n      <th>Confirmed</th>\n    </tr>\n  </thead>\n  <tbody>\n    <tr>\n      <th>0</th>\n      <td>0</td>\n      <td>1.0</td>\n    </tr>\n    <tr>\n      <th>1</th>\n      <td>1</td>\n      <td>0.0</td>\n    </tr>\n    <tr>\n      <th>2</th>\n      <td>2</td>\n      <td>0.0</td>\n    </tr>\n  </tbody>\n</table>\n</div>"
     },
     "metadata": {},
     "execution_count": 12
    }
   ],
   "source": [
    "dfdaily_avg.head(3)"
   ]
  },
  {
   "cell_type": "code",
   "execution_count": 13,
   "metadata": {},
   "outputs": [
    {
     "output_type": "execute_result",
     "data": {
      "text/plain": "     Date  Confirmed\n112   112    22330.0\n113   113    21617.0\n114   114    21872.0",
      "text/html": "<div>\n<style scoped>\n    .dataframe tbody tr th:only-of-type {\n        vertical-align: middle;\n    }\n\n    .dataframe tbody tr th {\n        vertical-align: top;\n    }\n\n    .dataframe thead th {\n        text-align: right;\n    }\n</style>\n<table border=\"1\" class=\"dataframe\">\n  <thead>\n    <tr style=\"text-align: right;\">\n      <th></th>\n      <th>Date</th>\n      <th>Confirmed</th>\n    </tr>\n  </thead>\n  <tbody>\n    <tr>\n      <th>112</th>\n      <td>112</td>\n      <td>22330.0</td>\n    </tr>\n    <tr>\n      <th>113</th>\n      <td>113</td>\n      <td>21617.0</td>\n    </tr>\n    <tr>\n      <th>114</th>\n      <td>114</td>\n      <td>21872.0</td>\n    </tr>\n  </tbody>\n</table>\n</div>"
     },
     "metadata": {},
     "execution_count": 13
    }
   ],
   "source": [
    "dfdaily_avg.tail(3)"
   ]
  },
  {
   "cell_type": "code",
   "execution_count": 14,
   "metadata": {},
   "outputs": [
    {
     "output_type": "display_data",
     "data": {
      "application/vnd.plotly.v1+json": {
       "config": {
        "plotlyServerURL": "https://plot.ly"
       },
       "data": [
        {
         "hovertemplate": "Deaths: <b>%{y:,.0f}</b><extra></extra>",
         "marker": {
          "color": "#ff3333"
         },
         "name": "Deaths ",
         "textposition": "outside",
         "texttemplate": "%{y:,.2s}",
         "type": "bar",
         "x": [
          "1/22/20",
          "1/23/20",
          "1/24/20",
          "1/25/20",
          "1/26/20",
          "1/27/20",
          "1/28/20",
          "1/29/20",
          "1/30/20",
          "1/31/20",
          "2/1/20",
          "2/2/20",
          "2/3/20",
          "2/4/20",
          "2/5/20",
          "2/6/20",
          "2/7/20",
          "2/8/20",
          "2/9/20",
          "2/10/20",
          "2/11/20",
          "2/12/20",
          "2/13/20",
          "2/14/20",
          "2/15/20",
          "2/16/20",
          "2/17/20",
          "2/18/20",
          "2/19/20",
          "2/20/20",
          "2/21/20",
          "2/22/20",
          "2/23/20",
          "2/24/20",
          "2/25/20",
          "2/26/20",
          "2/27/20",
          "2/28/20",
          "2/29/20",
          "3/1/20",
          "3/2/20",
          "3/3/20",
          "3/4/20",
          "3/5/20",
          "3/6/20",
          "3/7/20",
          "3/8/20",
          "3/9/20",
          "3/10/20",
          "3/11/20",
          "3/12/20",
          "3/13/20",
          "3/14/20",
          "3/15/20",
          "3/16/20",
          "3/17/20",
          "3/18/20",
          "3/19/20",
          "3/20/20",
          "3/21/20",
          "3/22/20",
          "3/23/20",
          "3/24/20",
          "3/25/20",
          "3/26/20",
          "3/27/20",
          "3/28/20",
          "3/29/20",
          "3/30/20",
          "3/31/20",
          "4/1/20",
          "4/2/20",
          "4/3/20",
          "4/4/20",
          "4/5/20",
          "4/6/20",
          "4/7/20",
          "4/8/20",
          "4/9/20",
          "4/10/20",
          "4/11/20",
          "4/12/20",
          "4/13/20",
          "4/14/20",
          "4/15/20",
          "4/16/20",
          "4/17/20",
          "4/18/20",
          "4/19/20",
          "4/20/20",
          "4/21/20",
          "4/22/20",
          "4/23/20",
          "4/24/20",
          "4/25/20",
          "4/26/20",
          "4/27/20",
          "4/28/20",
          "4/29/20",
          "4/30/20",
          "5/1/20",
          "5/2/20",
          "5/3/20",
          "5/4/20",
          "5/5/20",
          "5/6/20",
          "5/7/20",
          "5/8/20",
          "5/9/20",
          "5/10/20",
          "5/11/20",
          "5/12/20",
          "5/13/20",
          "5/14/20",
          "5/15/20"
         ],
         "y": [
          0,
          0,
          0,
          0,
          0,
          0,
          0,
          0,
          0,
          0,
          0,
          0,
          0,
          0,
          0,
          0,
          0,
          0,
          0,
          0,
          0,
          0,
          0,
          0,
          0,
          0,
          0,
          0,
          0,
          0,
          0,
          0,
          0,
          0,
          0,
          0,
          0,
          0,
          1,
          0,
          5,
          1,
          4,
          1,
          2,
          3,
          4,
          1,
          6,
          4,
          9,
          9,
          6,
          14,
          28,
          34,
          57,
          78,
          96,
          90,
          143,
          185,
          227,
          308,
          410,
          539,
          621,
          632,
          798,
          1215,
          1205,
          1550,
          1287,
          1261,
          1411,
          1649,
          2297,
          2079,
          1994,
          2069,
          2009,
          1744,
          1784,
          2392,
          2472,
          2093,
          2584,
          2342,
          1192,
          1714,
          2427,
          2326,
          2312,
          1769,
          2262,
          1126,
          1338,
          2136,
          2612,
          2029,
          1947,
          1426,
          1313,
          1240,
          2142,
          2391,
          2207,
          1518,
          1615,
          731,
          1156,
          1694,
          1743,
          1779,
          1632
         ]
        },
        {
         "hoverlabel": {
          "bgcolor": "#ff8000",
          "bordercolor": "white",
          "font": {
           "color": "white",
           "family": "Arial",
           "size": 20
          }
         },
         "hovertemplate": "Confirmed: <b>%{y:,.0f}</b><extra></extra>",
         "marker": {
          "color": "#ffa64d"
         },
         "name": "Confirmed ",
         "textposition": "outside",
         "texttemplate": "%{y:,.2s}",
         "type": "bar",
         "x": [
          "1/22/20",
          "1/23/20",
          "1/24/20",
          "1/25/20",
          "1/26/20",
          "1/27/20",
          "1/28/20",
          "1/29/20",
          "1/30/20",
          "1/31/20",
          "2/1/20",
          "2/2/20",
          "2/3/20",
          "2/4/20",
          "2/5/20",
          "2/6/20",
          "2/7/20",
          "2/8/20",
          "2/9/20",
          "2/10/20",
          "2/11/20",
          "2/12/20",
          "2/13/20",
          "2/14/20",
          "2/15/20",
          "2/16/20",
          "2/17/20",
          "2/18/20",
          "2/19/20",
          "2/20/20",
          "2/21/20",
          "2/22/20",
          "2/23/20",
          "2/24/20",
          "2/25/20",
          "2/26/20",
          "2/27/20",
          "2/28/20",
          "2/29/20",
          "3/1/20",
          "3/2/20",
          "3/3/20",
          "3/4/20",
          "3/5/20",
          "3/6/20",
          "3/7/20",
          "3/8/20",
          "3/9/20",
          "3/10/20",
          "3/11/20",
          "3/12/20",
          "3/13/20",
          "3/14/20",
          "3/15/20",
          "3/16/20",
          "3/17/20",
          "3/18/20",
          "3/19/20",
          "3/20/20",
          "3/21/20",
          "3/22/20",
          "3/23/20",
          "3/24/20",
          "3/25/20",
          "3/26/20",
          "3/27/20",
          "3/28/20",
          "3/29/20",
          "3/30/20",
          "3/31/20",
          "4/1/20",
          "4/2/20",
          "4/3/20",
          "4/4/20",
          "4/5/20",
          "4/6/20",
          "4/7/20",
          "4/8/20",
          "4/9/20",
          "4/10/20",
          "4/11/20",
          "4/12/20",
          "4/13/20",
          "4/14/20",
          "4/15/20",
          "4/16/20",
          "4/17/20",
          "4/18/20",
          "4/19/20",
          "4/20/20",
          "4/21/20",
          "4/22/20",
          "4/23/20",
          "4/24/20",
          "4/25/20",
          "4/26/20",
          "4/27/20",
          "4/28/20",
          "4/29/20",
          "4/30/20",
          "5/1/20",
          "5/2/20",
          "5/3/20",
          "5/4/20",
          "5/5/20",
          "5/6/20",
          "5/7/20",
          "5/8/20",
          "5/9/20",
          "5/10/20",
          "5/11/20",
          "5/12/20",
          "5/13/20",
          "5/14/20",
          "5/15/20"
         ],
         "y": [
          1,
          0,
          1,
          0,
          3,
          0,
          0,
          0,
          0,
          2,
          1,
          0,
          3,
          0,
          0,
          0,
          0,
          0,
          0,
          0,
          1,
          0,
          1,
          0,
          0,
          0,
          0,
          0,
          0,
          0,
          2,
          0,
          0,
          0,
          0,
          0,
          1,
          0,
          8,
          6,
          23,
          20,
          31,
          68,
          45,
          119,
          114,
          64,
          194,
          397,
          452,
          590,
          710,
          61,
          1389,
          1789,
          2777,
          5221,
          5309,
          6322,
          7909,
          10029,
          10073,
          12042,
          18058,
          17821,
          19808,
          19444,
          20922,
          26341,
          25070,
          30380,
          31745,
          33283,
          28152,
          29515,
          30804,
          31533,
          34126,
          33755,
          29861,
          28917,
          25306,
          27051,
          28680,
          31242,
          32114,
          28253,
          26417,
          25306,
          27341,
          28127,
          34020,
          36188,
          32796,
          27631,
          22412,
          24385,
          27327,
          29515,
          34037,
          29078,
          25501,
          22335,
          23976,
          24980,
          27692,
          26906,
          25621,
          19710,
          18621,
          21693,
          20832,
          27368,
          25050
         ]
        },
        {
         "fill": "tozeroy",
         "hoverinfo": "skip",
         "line": {
          "color": " #e67300",
          "width": 2
         },
         "mode": "lines",
         "name": "",
         "showlegend": false,
         "type": "scatter",
         "x": [
          "1/22/20",
          "1/23/20",
          "1/24/20",
          "1/25/20",
          "1/26/20",
          "1/27/20",
          "1/28/20",
          "1/29/20",
          "1/30/20",
          "1/31/20",
          "2/1/20",
          "2/2/20",
          "2/3/20",
          "2/4/20",
          "2/5/20",
          "2/6/20",
          "2/7/20",
          "2/8/20",
          "2/9/20",
          "2/10/20",
          "2/11/20",
          "2/12/20",
          "2/13/20",
          "2/14/20",
          "2/15/20",
          "2/16/20",
          "2/17/20",
          "2/18/20",
          "2/19/20",
          "2/20/20",
          "2/21/20",
          "2/22/20",
          "2/23/20",
          "2/24/20",
          "2/25/20",
          "2/26/20",
          "2/27/20",
          "2/28/20",
          "2/29/20",
          "3/1/20",
          "3/2/20",
          "3/3/20",
          "3/4/20",
          "3/5/20",
          "3/6/20",
          "3/7/20",
          "3/8/20",
          "3/9/20",
          "3/10/20",
          "3/11/20",
          "3/12/20",
          "3/13/20",
          "3/14/20",
          "3/15/20",
          "3/16/20",
          "3/17/20",
          "3/18/20",
          "3/19/20",
          "3/20/20",
          "3/21/20",
          "3/22/20",
          "3/23/20",
          "3/24/20",
          "3/25/20",
          "3/26/20",
          "3/27/20",
          "3/28/20",
          "3/29/20",
          "3/30/20",
          "3/31/20",
          "4/1/20",
          "4/2/20",
          "4/3/20",
          "4/4/20",
          "4/5/20",
          "4/6/20",
          "4/7/20",
          "4/8/20",
          "4/9/20",
          "4/10/20",
          "4/11/20",
          "4/12/20",
          "4/13/20",
          "4/14/20",
          "4/15/20",
          "4/16/20",
          "4/17/20",
          "4/18/20",
          "4/19/20",
          "4/20/20",
          "4/21/20",
          "4/22/20",
          "4/23/20",
          "4/24/20",
          "4/25/20",
          "4/26/20",
          "4/27/20",
          "4/28/20",
          "4/29/20",
          "4/30/20",
          "5/1/20",
          "5/2/20",
          "5/3/20",
          "5/4/20",
          "5/5/20",
          "5/6/20",
          "5/7/20",
          "5/8/20",
          "5/9/20",
          "5/10/20",
          "5/11/20",
          "5/12/20",
          "5/13/20",
          "5/14/20",
          "5/15/20"
         ],
         "y": [
          1,
          0,
          0,
          0,
          0,
          0,
          1,
          1,
          1,
          0,
          0,
          0,
          1,
          1,
          1,
          1,
          1,
          0,
          0,
          0,
          0,
          0,
          0,
          0,
          0,
          0,
          0,
          0,
          0,
          0,
          0,
          0,
          0,
          0,
          0,
          0,
          0,
          0,
          1,
          2,
          4,
          7,
          12,
          20,
          28,
          41,
          57,
          70,
          90,
          122,
          169,
          250,
          354,
          419,
          522,
          666,
          908,
          1493,
          2265,
          3245,
          4416,
          5566,
          6768,
          8045,
          9635,
          11411,
          13499,
          15691,
          17428,
          19211,
          20714,
          22438,
          24659,
          26782,
          28768,
          30017,
          30530,
          30501,
          30652,
          31122,
          31592,
          32008,
          31499,
          30307,
          29099,
          28200,
          28278,
          28851,
          29355,
          29343,
          28608,
          27789,
          27587,
          28436,
          29924,
          31390,
          31654,
          30501,
          28665,
          26978,
          26743,
          27538,
          28562,
          29019,
          28121,
          26673,
          25476,
          25014,
          25283,
          25479,
          24971,
          23852,
          22330,
          21617,
          21872
         ]
        }
       ],
       "layout": {
        "barmode": "group",
        "dragmode": false,
        "hoverlabel": {
         "bgcolor": "white",
         "bordercolor": "#b3b3b3",
         "font": {
          "family": "Arial",
          "size": 16
         }
        },
        "hovermode": "x unified",
        "legend": {
         "x": 0,
         "y": 1
        },
        "paper_bgcolor": "rgba(0,0,0,0)",
        "plot_bgcolor": "rgba(0,0,0,0)",
        "template": {
         "data": {
          "bar": [
           {
            "error_x": {
             "color": "#2a3f5f"
            },
            "error_y": {
             "color": "#2a3f5f"
            },
            "marker": {
             "line": {
              "color": "#E5ECF6",
              "width": 0.5
             }
            },
            "type": "bar"
           }
          ],
          "barpolar": [
           {
            "marker": {
             "line": {
              "color": "#E5ECF6",
              "width": 0.5
             }
            },
            "type": "barpolar"
           }
          ],
          "carpet": [
           {
            "aaxis": {
             "endlinecolor": "#2a3f5f",
             "gridcolor": "white",
             "linecolor": "white",
             "minorgridcolor": "white",
             "startlinecolor": "#2a3f5f"
            },
            "baxis": {
             "endlinecolor": "#2a3f5f",
             "gridcolor": "white",
             "linecolor": "white",
             "minorgridcolor": "white",
             "startlinecolor": "#2a3f5f"
            },
            "type": "carpet"
           }
          ],
          "choropleth": [
           {
            "colorbar": {
             "outlinewidth": 0,
             "ticks": ""
            },
            "type": "choropleth"
           }
          ],
          "contour": [
           {
            "colorbar": {
             "outlinewidth": 0,
             "ticks": ""
            },
            "colorscale": [
             [
              0,
              "#0d0887"
             ],
             [
              0.1111111111111111,
              "#46039f"
             ],
             [
              0.2222222222222222,
              "#7201a8"
             ],
             [
              0.3333333333333333,
              "#9c179e"
             ],
             [
              0.4444444444444444,
              "#bd3786"
             ],
             [
              0.5555555555555556,
              "#d8576b"
             ],
             [
              0.6666666666666666,
              "#ed7953"
             ],
             [
              0.7777777777777778,
              "#fb9f3a"
             ],
             [
              0.8888888888888888,
              "#fdca26"
             ],
             [
              1,
              "#f0f921"
             ]
            ],
            "type": "contour"
           }
          ],
          "contourcarpet": [
           {
            "colorbar": {
             "outlinewidth": 0,
             "ticks": ""
            },
            "type": "contourcarpet"
           }
          ],
          "heatmap": [
           {
            "colorbar": {
             "outlinewidth": 0,
             "ticks": ""
            },
            "colorscale": [
             [
              0,
              "#0d0887"
             ],
             [
              0.1111111111111111,
              "#46039f"
             ],
             [
              0.2222222222222222,
              "#7201a8"
             ],
             [
              0.3333333333333333,
              "#9c179e"
             ],
             [
              0.4444444444444444,
              "#bd3786"
             ],
             [
              0.5555555555555556,
              "#d8576b"
             ],
             [
              0.6666666666666666,
              "#ed7953"
             ],
             [
              0.7777777777777778,
              "#fb9f3a"
             ],
             [
              0.8888888888888888,
              "#fdca26"
             ],
             [
              1,
              "#f0f921"
             ]
            ],
            "type": "heatmap"
           }
          ],
          "heatmapgl": [
           {
            "colorbar": {
             "outlinewidth": 0,
             "ticks": ""
            },
            "colorscale": [
             [
              0,
              "#0d0887"
             ],
             [
              0.1111111111111111,
              "#46039f"
             ],
             [
              0.2222222222222222,
              "#7201a8"
             ],
             [
              0.3333333333333333,
              "#9c179e"
             ],
             [
              0.4444444444444444,
              "#bd3786"
             ],
             [
              0.5555555555555556,
              "#d8576b"
             ],
             [
              0.6666666666666666,
              "#ed7953"
             ],
             [
              0.7777777777777778,
              "#fb9f3a"
             ],
             [
              0.8888888888888888,
              "#fdca26"
             ],
             [
              1,
              "#f0f921"
             ]
            ],
            "type": "heatmapgl"
           }
          ],
          "histogram": [
           {
            "marker": {
             "colorbar": {
              "outlinewidth": 0,
              "ticks": ""
             }
            },
            "type": "histogram"
           }
          ],
          "histogram2d": [
           {
            "colorbar": {
             "outlinewidth": 0,
             "ticks": ""
            },
            "colorscale": [
             [
              0,
              "#0d0887"
             ],
             [
              0.1111111111111111,
              "#46039f"
             ],
             [
              0.2222222222222222,
              "#7201a8"
             ],
             [
              0.3333333333333333,
              "#9c179e"
             ],
             [
              0.4444444444444444,
              "#bd3786"
             ],
             [
              0.5555555555555556,
              "#d8576b"
             ],
             [
              0.6666666666666666,
              "#ed7953"
             ],
             [
              0.7777777777777778,
              "#fb9f3a"
             ],
             [
              0.8888888888888888,
              "#fdca26"
             ],
             [
              1,
              "#f0f921"
             ]
            ],
            "type": "histogram2d"
           }
          ],
          "histogram2dcontour": [
           {
            "colorbar": {
             "outlinewidth": 0,
             "ticks": ""
            },
            "colorscale": [
             [
              0,
              "#0d0887"
             ],
             [
              0.1111111111111111,
              "#46039f"
             ],
             [
              0.2222222222222222,
              "#7201a8"
             ],
             [
              0.3333333333333333,
              "#9c179e"
             ],
             [
              0.4444444444444444,
              "#bd3786"
             ],
             [
              0.5555555555555556,
              "#d8576b"
             ],
             [
              0.6666666666666666,
              "#ed7953"
             ],
             [
              0.7777777777777778,
              "#fb9f3a"
             ],
             [
              0.8888888888888888,
              "#fdca26"
             ],
             [
              1,
              "#f0f921"
             ]
            ],
            "type": "histogram2dcontour"
           }
          ],
          "mesh3d": [
           {
            "colorbar": {
             "outlinewidth": 0,
             "ticks": ""
            },
            "type": "mesh3d"
           }
          ],
          "parcoords": [
           {
            "line": {
             "colorbar": {
              "outlinewidth": 0,
              "ticks": ""
             }
            },
            "type": "parcoords"
           }
          ],
          "pie": [
           {
            "automargin": true,
            "type": "pie"
           }
          ],
          "scatter": [
           {
            "marker": {
             "colorbar": {
              "outlinewidth": 0,
              "ticks": ""
             }
            },
            "type": "scatter"
           }
          ],
          "scatter3d": [
           {
            "line": {
             "colorbar": {
              "outlinewidth": 0,
              "ticks": ""
             }
            },
            "marker": {
             "colorbar": {
              "outlinewidth": 0,
              "ticks": ""
             }
            },
            "type": "scatter3d"
           }
          ],
          "scattercarpet": [
           {
            "marker": {
             "colorbar": {
              "outlinewidth": 0,
              "ticks": ""
             }
            },
            "type": "scattercarpet"
           }
          ],
          "scattergeo": [
           {
            "marker": {
             "colorbar": {
              "outlinewidth": 0,
              "ticks": ""
             }
            },
            "type": "scattergeo"
           }
          ],
          "scattergl": [
           {
            "marker": {
             "colorbar": {
              "outlinewidth": 0,
              "ticks": ""
             }
            },
            "type": "scattergl"
           }
          ],
          "scattermapbox": [
           {
            "marker": {
             "colorbar": {
              "outlinewidth": 0,
              "ticks": ""
             }
            },
            "type": "scattermapbox"
           }
          ],
          "scatterpolar": [
           {
            "marker": {
             "colorbar": {
              "outlinewidth": 0,
              "ticks": ""
             }
            },
            "type": "scatterpolar"
           }
          ],
          "scatterpolargl": [
           {
            "marker": {
             "colorbar": {
              "outlinewidth": 0,
              "ticks": ""
             }
            },
            "type": "scatterpolargl"
           }
          ],
          "scatterternary": [
           {
            "marker": {
             "colorbar": {
              "outlinewidth": 0,
              "ticks": ""
             }
            },
            "type": "scatterternary"
           }
          ],
          "surface": [
           {
            "colorbar": {
             "outlinewidth": 0,
             "ticks": ""
            },
            "colorscale": [
             [
              0,
              "#0d0887"
             ],
             [
              0.1111111111111111,
              "#46039f"
             ],
             [
              0.2222222222222222,
              "#7201a8"
             ],
             [
              0.3333333333333333,
              "#9c179e"
             ],
             [
              0.4444444444444444,
              "#bd3786"
             ],
             [
              0.5555555555555556,
              "#d8576b"
             ],
             [
              0.6666666666666666,
              "#ed7953"
             ],
             [
              0.7777777777777778,
              "#fb9f3a"
             ],
             [
              0.8888888888888888,
              "#fdca26"
             ],
             [
              1,
              "#f0f921"
             ]
            ],
            "type": "surface"
           }
          ],
          "table": [
           {
            "cells": {
             "fill": {
              "color": "#EBF0F8"
             },
             "line": {
              "color": "white"
             }
            },
            "header": {
             "fill": {
              "color": "#C8D4E3"
             },
             "line": {
              "color": "white"
             }
            },
            "type": "table"
           }
          ]
         },
         "layout": {
          "annotationdefaults": {
           "arrowcolor": "#2a3f5f",
           "arrowhead": 0,
           "arrowwidth": 1
          },
          "coloraxis": {
           "colorbar": {
            "outlinewidth": 0,
            "ticks": ""
           }
          },
          "colorscale": {
           "diverging": [
            [
             0,
             "#8e0152"
            ],
            [
             0.1,
             "#c51b7d"
            ],
            [
             0.2,
             "#de77ae"
            ],
            [
             0.3,
             "#f1b6da"
            ],
            [
             0.4,
             "#fde0ef"
            ],
            [
             0.5,
             "#f7f7f7"
            ],
            [
             0.6,
             "#e6f5d0"
            ],
            [
             0.7,
             "#b8e186"
            ],
            [
             0.8,
             "#7fbc41"
            ],
            [
             0.9,
             "#4d9221"
            ],
            [
             1,
             "#276419"
            ]
           ],
           "sequential": [
            [
             0,
             "#0d0887"
            ],
            [
             0.1111111111111111,
             "#46039f"
            ],
            [
             0.2222222222222222,
             "#7201a8"
            ],
            [
             0.3333333333333333,
             "#9c179e"
            ],
            [
             0.4444444444444444,
             "#bd3786"
            ],
            [
             0.5555555555555556,
             "#d8576b"
            ],
            [
             0.6666666666666666,
             "#ed7953"
            ],
            [
             0.7777777777777778,
             "#fb9f3a"
            ],
            [
             0.8888888888888888,
             "#fdca26"
            ],
            [
             1,
             "#f0f921"
            ]
           ],
           "sequentialminus": [
            [
             0,
             "#0d0887"
            ],
            [
             0.1111111111111111,
             "#46039f"
            ],
            [
             0.2222222222222222,
             "#7201a8"
            ],
            [
             0.3333333333333333,
             "#9c179e"
            ],
            [
             0.4444444444444444,
             "#bd3786"
            ],
            [
             0.5555555555555556,
             "#d8576b"
            ],
            [
             0.6666666666666666,
             "#ed7953"
            ],
            [
             0.7777777777777778,
             "#fb9f3a"
            ],
            [
             0.8888888888888888,
             "#fdca26"
            ],
            [
             1,
             "#f0f921"
            ]
           ]
          },
          "colorway": [
           "#636efa",
           "#EF553B",
           "#00cc96",
           "#ab63fa",
           "#FFA15A",
           "#19d3f3",
           "#FF6692",
           "#B6E880",
           "#FF97FF",
           "#FECB52"
          ],
          "font": {
           "color": "#2a3f5f"
          },
          "geo": {
           "bgcolor": "white",
           "lakecolor": "white",
           "landcolor": "#E5ECF6",
           "showlakes": true,
           "showland": true,
           "subunitcolor": "white"
          },
          "hoverlabel": {
           "align": "left"
          },
          "hovermode": "closest",
          "mapbox": {
           "style": "light"
          },
          "paper_bgcolor": "white",
          "plot_bgcolor": "#E5ECF6",
          "polar": {
           "angularaxis": {
            "gridcolor": "white",
            "linecolor": "white",
            "ticks": ""
           },
           "bgcolor": "#E5ECF6",
           "radialaxis": {
            "gridcolor": "white",
            "linecolor": "white",
            "ticks": ""
           }
          },
          "scene": {
           "xaxis": {
            "backgroundcolor": "#E5ECF6",
            "gridcolor": "white",
            "gridwidth": 2,
            "linecolor": "white",
            "showbackground": true,
            "ticks": "",
            "zerolinecolor": "white"
           },
           "yaxis": {
            "backgroundcolor": "#E5ECF6",
            "gridcolor": "white",
            "gridwidth": 2,
            "linecolor": "white",
            "showbackground": true,
            "ticks": "",
            "zerolinecolor": "white"
           },
           "zaxis": {
            "backgroundcolor": "#E5ECF6",
            "gridcolor": "white",
            "gridwidth": 2,
            "linecolor": "white",
            "showbackground": true,
            "ticks": "",
            "zerolinecolor": "white"
           }
          },
          "shapedefaults": {
           "line": {
            "color": "#2a3f5f"
           }
          },
          "ternary": {
           "aaxis": {
            "gridcolor": "white",
            "linecolor": "white",
            "ticks": ""
           },
           "baxis": {
            "gridcolor": "white",
            "linecolor": "white",
            "ticks": ""
           },
           "bgcolor": "#E5ECF6",
           "caxis": {
            "gridcolor": "white",
            "linecolor": "white",
            "ticks": ""
           }
          },
          "title": {
           "x": 0.05
          },
          "xaxis": {
           "automargin": true,
           "gridcolor": "white",
           "linecolor": "white",
           "ticks": "",
           "title": {
            "standoff": 15
           },
           "zerolinecolor": "white",
           "zerolinewidth": 2
          },
          "yaxis": {
           "automargin": true,
           "gridcolor": "white",
           "linecolor": "white",
           "ticks": "",
           "title": {
            "standoff": 15
           },
           "zerolinecolor": "white",
           "zerolinewidth": 2
          }
         }
        },
        "uniformtext": {
         "minsize": 7,
         "mode": "hide"
        },
        "xaxis": {
         "color": "#4d4d4d",
         "fixedrange": true,
         "linecolor": "#a6a6a6",
         "linewidth": 0.5,
         "nticks": 12,
         "showline": true,
         "spikedash": "solid",
         "spikethickness": 0.4,
         "tickmode": "auto"
        },
        "yaxis": {
         "color": "#4d4d4d",
         "fixedrange": true,
         "gridcolor": "#f2f2f2",
         "gridwidth": 1,
         "linecolor": "#a6a6a6",
         "linewidth": 1,
         "scaleanchor": "x",
         "scaleratio": 1,
         "showgrid": true,
         "showline": true,
         "tickfont": {
          "size": 14
         }
        }
       }
      }
     },
     "metadata": {}
    }
   ],
   "source": [
    "import plotly.graph_objects as go\n",
    "\n",
    "# con = us_df['positive']\n",
    "# dea = us_df['death']\n",
    "\n",
    "fig = go.Figure()\n",
    "\n",
    "fig.add_trace(go.Bar(x = df_d_daily['Date'], y = df_d_daily['Deaths'],\n",
    "              #hovertext='Deaths',\n",
    "              name='Deaths ',\n",
    "              #opacity=.5,\n",
    "              textposition='outside',\n",
    "              hovertemplate = 'Deaths: <b>%{y:,.0f}</b><extra></extra>',\n",
    "              marker_color='#ff3333'     \n",
    "                    )\n",
    "             )\n",
    "\n",
    "fig.add_trace(go.Bar(x = dfdaily['Date'], y = dfdaily['Confirmed'],\n",
    "              #hovertext='Positive cases',\n",
    "              name='Confirmed ',\n",
    "              textposition='outside',\n",
    "              hoverlabel=dict(bgcolor='#ff8000', bordercolor='white',\n",
    "                font=dict(family='Arial', size=20, color='white')\n",
    "                             ),\n",
    "              hovertemplate = 'Confirmed: <b>%{y:,.0f}</b><extra></extra>',\n",
    "              marker_color='#ffa64d'\n",
    "                    )\n",
    "             )\n",
    "\n",
    "fig.update_layout(#title=dict(text='Daily COVID19 Cases in the US (data: JHU)', x=0.5),\n",
    "                  #width=1200,\n",
    "                  barmode='group',\n",
    "                  paper_bgcolor='rgba(0,0,0,0)', \n",
    "                  plot_bgcolor='rgba(0,0,0,0)',\n",
    "                  uniformtext_minsize=7, uniformtext_mode='hide',\n",
    "                  #hovermode='x', #sets the bar chart to display both tooltips by default\n",
    "                  hovermode=\"x unified\", # shows all tooltips in one box and vertical line - easier to read\n",
    "                  hoverlabel=dict(\n",
    "                                bgcolor=\"white\", \n",
    "                                font_size=16, \n",
    "                                font_family=\"Arial\",\n",
    "                                bordercolor='#b3b3b3'),\n",
    "                  legend=dict(x=0, y=1),\n",
    "                  #font=dict(size = 12),\n",
    "                  dragmode=False, #disable panning so mobile apps can receive pinch to zoom events\n",
    "                  yaxis = dict(\n",
    "                      scaleanchor = \"x\",\n",
    "                      scaleratio = 1,\n",
    "                              )\n",
    "                 )\n",
    "                 \n",
    "                     \n",
    "fig.update_xaxes(showline=True, linewidth=0.5, linecolor='#a6a6a6', color='#4d4d4d',\n",
    "                #showgrid=True, gridwidth=1, gridcolor='#f2f2f2',\n",
    "                fixedrange=True,\n",
    "                #tickfont = dict(size = 10),\n",
    "                tickmode='auto',\n",
    "                nticks=12,\n",
    "                spikethickness=0.4,\n",
    "                spikedash='solid',\n",
    "                )\n",
    "              \n",
    "fig.update_yaxes(showline=True, linewidth=1, linecolor='#a6a6a6', color='#4d4d4d',\n",
    "                 showgrid=True, gridwidth=1, gridcolor='#f2f2f2',\n",
    "                 fixedrange=True,\n",
    "                 tickfont = dict(size = 14),\n",
    "                )\n",
    "\n",
    "\n",
    "fig.update_traces(texttemplate='%{y:,.2s}', textposition='outside')\n",
    "\n",
    "\n",
    "    \n",
    "fig.add_trace(go.Scatter(x = dfdaily['Date'], y = dfdaily_avg['Confirmed'],\n",
    "                    mode='lines',\n",
    "                    fill='tozeroy',\n",
    "                    name='',\n",
    "                    line=dict(color=' #e67300', width=2),\n",
    "                    showlegend=False,\n",
    "                    hoverinfo='skip'\n",
    "                        )\n",
    "             )\n",
    "\n",
    "\n",
    "fig.show(displayModeBar=False)\n",
    "    \n",
    "import plotly.io as pio\n",
    "pio.write_html(fig, file='Index.html', auto_open=True)"
   ]
  },
  {
   "cell_type": "code",
   "execution_count": null,
   "metadata": {},
   "outputs": [],
   "source": []
  }
 ],
 "metadata": {
  "kernelspec": {
   "display_name": "Python 3",
   "language": "python",
   "name": "python3"
  },
  "language_info": {
   "codemirror_mode": {
    "name": "ipython",
    "version": 3
   },
   "file_extension": ".py",
   "mimetype": "text/x-python",
   "name": "python",
   "nbconvert_exporter": "python",
   "pygments_lexer": "ipython3",
   "version": "3.8.2-final"
  }
 },
 "nbformat": 4,
 "nbformat_minor": 4
}